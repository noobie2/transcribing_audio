{
 "cells": [
  {
   "cell_type": "markdown",
   "metadata": {},
   "source": [
    "## Python program that takes input audio file and converts it to text."
   ]
  },
  {
   "cell_type": "code",
   "execution_count": null,
   "metadata": {},
   "outputs": [],
   "source": [
    "import os\n",
    "from pydub import AudioSegment #needs ffmpeg coder installed.\n",
    "import speech_recognition as spr"
   ]
  },
  {
   "cell_type": "code",
   "execution_count": null,
   "metadata": {},
   "outputs": [],
   "source": [
    "#For native English speakers, Google Cloud Speech API can easily transcribe audio with >90% accuracy."
   ]
  },
  {
   "cell_type": "code",
   "execution_count": null,
   "metadata": {},
   "outputs": [],
   "source": [
    "#filename and format specified, eg:(\"song.wav\", \"wav\")\n",
    "#accepts .wav format\n",
    "file = AudioSegment.from_file(\"filename\", \"format_of_file\")"
   ]
  },
  {
   "cell_type": "code",
   "execution_count": null,
   "metadata": {},
   "outputs": [],
   "source": [
    "# gives the seconds in the audio file\n",
    "d = file.duration_seconds"
   ]
  },
  {
   "cell_type": "code",
   "execution_count": null,
   "metadata": {},
   "outputs": [],
   "source": [
    "# google could api accepts data for free accounts in 30sec intervals.\n",
    "#slicing audio into 30 sec intervals using pydub, AudioSegment takes in time in millisec.\n",
    "t = 30 * 1000 #30sec\n",
    "low = 0\n",
    "up = t\n",
    "i=0\n",
    "while low<d:\n",
    "    i+=1\n",
    "    f = file[low:up]\n",
    "    #s=f'filename{i}.wav'\n",
    "    f.export(f'parts/filename{i}.wav',format='wav')\n",
    "    low=up\n",
    "    if up+t > d:\n",
    "        up=d\n",
    "    else:\n",
    "        up=up+t"
   ]
  },
  {
   "cell_type": "code",
   "execution_count": null,
   "metadata": {},
   "outputs": [],
   "source": [
    "#getting the api key credentials of google, rename the file to apikey.json\n",
    "with open('api_key.json','r') as f:\n",
    "    Google_Cred = f.read()"
   ]
  },
  {
   "cell_type": "code",
   "execution_count": null,
   "metadata": {},
   "outputs": [],
   "source": [
    "#setting up the speech recognizer\n",
    "recog = spr.Recognizer()"
   ]
  },
  {
   "cell_type": "code",
   "execution_count": null,
   "metadata": {},
   "outputs": [],
   "source": [
    "#getting the list of chopped files\n",
    "files = sorted(os.listdir('parts/'))"
   ]
  },
  {
   "cell_type": "code",
   "execution_count": null,
   "metadata": {},
   "outputs": [],
   "source": [
    "#reading the audio files and storing in a list\n",
    "transcribed_text_gc = []\n",
    "for f in files:\n",
    "    n = 'parts/' + f\n",
    "    with spr.AudioFile(n) as source_file:\n",
    "        audio = recog.record(source_file)\n",
    "        \n",
    "    # Transcribe audio file using google_cloud_api\n",
    "    text = recog.recognize_google_cloud(audio, credentials_json=Google_Cred)\n",
    "    transcribed_text_gc.append(text)"
   ]
  },
  {
   "cell_type": "code",
   "execution_count": null,
   "metadata": {},
   "outputs": [],
   "source": [
    "# the text recognized by google_cloud_api\n",
    "with open(\"transcribed_text_gc.txt\", \"w\") as f:\n",
    "    for i,j in enumerate(transcribed_text_gc):\n",
    "        f.write(f\" Part{i}:\" + str(j))\n",
    "print(transcribed_text_gc)"
   ]
  }
 ],
 "metadata": {
  "kernelspec": {
   "display_name": "Python 3",
   "language": "python",
   "name": "python3"
  },
  "language_info": {
   "codemirror_mode": {
    "name": "ipython",
    "version": 3
   },
   "file_extension": ".py",
   "mimetype": "text/x-python",
   "name": "python",
   "nbconvert_exporter": "python",
   "pygments_lexer": "ipython3",
   "version": "3.7.3"
  }
 },
 "nbformat": 4,
 "nbformat_minor": 2
}
